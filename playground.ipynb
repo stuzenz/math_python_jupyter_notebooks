{
 "cells": [
  {
   "cell_type": "markdown",
   "id": "brief-mystery",
   "metadata": {
    "execution": {
     "iopub.execute_input": "2021-03-16T23:23:21.425390Z",
     "iopub.status.busy": "2021-03-16T23:23:21.424807Z",
     "iopub.status.idle": "2021-03-16T23:23:21.429670Z",
     "shell.execute_reply": "2021-03-16T23:23:21.428213Z",
     "shell.execute_reply.started": "2021-03-16T23:23:21.425274Z"
    }
   },
   "source": [
    "# Playground notebook\n",
    "\n",
    "Try some different things to get a feel for how they work\n",
    "\n",
    "- Remember to use the cheatsheet on the primes.page site\n",
    "- Notice how everything is in cells\n",
    "- This cell you are reading is a markdown cell\n",
    "- There are also coding cells like the cells below (you can tell if it is a coding cell because there is a number to the left of the cell\n",
    "\n",
    "** If you are running this from the cloud, none of you changes will remain on it for the next person who uses it **"
   ]
  },
  {
   "cell_type": "code",
   "execution_count": null,
   "id": "sticky-soccer",
   "metadata": {},
   "outputs": [],
   "source": [
    "# This is just some code to import libraries so we can use them if we feel like it\n",
    "import numpy as np\n",
    "from sympy import *\n",
    "import math as math"
   ]
  },
  {
   "cell_type": "markdown",
   "id": "detailed-piano",
   "metadata": {},
   "source": [
    "In the next line I have already types `pri`. Go to the cell at the end of `pri` and then hit the tab key. A selection of functions will show.\n",
    "Hit **enter** on one of the options and then hit **shift-tab**\n",
    "\n",
    "When you do **shift-tab** you can get documentation and examples on how to use the function.\n",
    "Try to do some functions about primes.\n",
    "\n",
    "Once you have had a play scroll down 10 cells and you will see some examples I have written.\n",
    "Then look at  the **shift-tab** help again"
   ]
  },
  {
   "cell_type": "code",
   "execution_count": null,
   "id": "tamil-denial",
   "metadata": {},
   "outputs": [],
   "source": [
    "pri"
   ]
  },
  {
   "cell_type": "markdown",
   "id": "lucky-hormone",
   "metadata": {},
   "source": [
    "Great, now is probably a good time to have a look at some python examples. You can find plenty of tutorials and resources online. Some of the python resources I use are listed in the links page at the primes.page site."
   ]
  },
  {
   "cell_type": "markdown",
   "id": "revolutionary-cooler",
   "metadata": {},
   "source": [
    "You create a list like this"
   ]
  },
  {
   "cell_type": "code",
   "execution_count": null,
   "id": "pregnant-uncle",
   "metadata": {},
   "outputs": [],
   "source": [
    "my_list = [1,2,3,4,5]"
   ]
  },
  {
   "cell_type": "markdown",
   "id": "amended-sleeping",
   "metadata": {},
   "source": [
    "You move through the list doing things to it like this"
   ]
  },
  {
   "cell_type": "code",
   "execution_count": null,
   "id": "professional-typing",
   "metadata": {},
   "outputs": [],
   "source": [
    "for value in my_list:\n",
    "    print(value*value)"
   ]
  },
  {
   "cell_type": "markdown",
   "id": "thick-delight",
   "metadata": {},
   "source": [
    "You can even put a loop in a loop - let have a quick play"
   ]
  },
  {
   "cell_type": "code",
   "execution_count": null,
   "id": "ethical-event",
   "metadata": {},
   "outputs": [],
   "source": [
    "for i in range(1,10):\n",
    "    print(\"this my first loop and the number from it \"+ str(i))\n",
    "    for value in my_list:\n",
    "        print(\"   this is my inner loop and the number from it multiplied by itself \"+str(i*i))\n",
    "        print(\"   lets multiple the first loop number by the above number of the second loop \"+ str(value*i*i))"
   ]
  },
  {
   "cell_type": "code",
   "execution_count": null,
   "id": "dense-poison",
   "metadata": {},
   "outputs": [],
   "source": []
  },
  {
   "cell_type": "code",
   "execution_count": null,
   "id": "surgical-scope",
   "metadata": {},
   "outputs": [],
   "source": []
  },
  {
   "cell_type": "code",
   "execution_count": null,
   "id": "working-sucking",
   "metadata": {},
   "outputs": [],
   "source": []
  },
  {
   "cell_type": "code",
   "execution_count": null,
   "id": "dependent-estonia",
   "metadata": {},
   "outputs": [],
   "source": []
  },
  {
   "cell_type": "markdown",
   "id": "aggregate-photography",
   "metadata": {},
   "source": [
    "Here are some examples for playing with prime numbers you can find"
   ]
  },
  {
   "cell_type": "code",
   "execution_count": null,
   "id": "virtual-mistress",
   "metadata": {},
   "outputs": [],
   "source": [
    "primefactors(200)"
   ]
  },
  {
   "cell_type": "code",
   "execution_count": null,
   "id": "alpha-amount",
   "metadata": {},
   "outputs": [],
   "source": [
    "divisors(200)"
   ]
  },
  {
   "cell_type": "code",
   "execution_count": null,
   "id": "aware-tournament",
   "metadata": {},
   "outputs": [],
   "source": [
    "factorint(200)"
   ]
  },
  {
   "cell_type": "code",
   "execution_count": null,
   "id": "broadband-fraud",
   "metadata": {},
   "outputs": [],
   "source": [
    "print([i for i in primerange(1, 30)])"
   ]
  },
  {
   "cell_type": "code",
   "execution_count": null,
   "id": "documented-fifth",
   "metadata": {},
   "outputs": [],
   "source": []
  }
 ],
 "metadata": {
  "kernelspec": {
   "display_name": "maths",
   "language": "python",
   "name": "maths"
  },
  "language_info": {
   "codemirror_mode": {
    "name": "ipython",
    "version": 3
   },
   "file_extension": ".py",
   "mimetype": "text/x-python",
   "name": "python",
   "nbconvert_exporter": "python",
   "pygments_lexer": "ipython3",
   "version": "3.9.1"
  }
 },
 "nbformat": 4,
 "nbformat_minor": 5
}
