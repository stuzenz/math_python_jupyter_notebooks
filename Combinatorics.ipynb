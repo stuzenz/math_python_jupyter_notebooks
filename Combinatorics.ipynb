{
 "cells": [
  {
   "cell_type": "markdown",
   "id": "indian-plaza",
   "metadata": {
    "execution": {
     "iopub.execute_input": "2021-08-28T03:54:02.122909Z",
     "iopub.status.busy": "2021-08-28T03:54:02.122048Z",
     "iopub.status.idle": "2021-08-28T03:54:02.265843Z",
     "shell.execute_reply": "2021-08-28T03:54:02.263685Z",
     "shell.execute_reply.started": "2021-08-28T03:54:02.122838Z"
    }
   },
   "source": [
    "# Combinatorics\n",
    "\n",
    "In this tutorial we will be learning about how to calculate possible combinations and permutations on combinations using some easy to use techniques"
   ]
  },
  {
   "cell_type": "code",
   "execution_count": 4,
   "id": "loose-career",
   "metadata": {
    "execution": {
     "iopub.execute_input": "2021-08-28T04:05:56.339569Z",
     "iopub.status.busy": "2021-08-28T04:05:56.339042Z",
     "iopub.status.idle": "2021-08-28T04:05:56.349280Z",
     "shell.execute_reply": "2021-08-28T04:05:56.346073Z",
     "shell.execute_reply.started": "2021-08-28T04:05:56.339506Z"
    }
   },
   "outputs": [],
   "source": [
    "# Let's import some libraries\n",
    "\n",
    "import numpy as np\n",
    "from sympy import *\n",
    "import math as math\n"
   ]
  },
  {
   "cell_type": "markdown",
   "id": "monetary-fusion",
   "metadata": {},
   "source": [
    "## Factorials\n",
    "\n",
    "Combinatorics can help us count the number of orders in which something can happen. Consider the following example:\n",
    "\n",
    "**Example Question**: _In a classroom there are 3 pupils and 3 chairs standing in a row. In how many different orders can the pupils sit on these chairs?_\n"
   ]
  },
  {
   "cell_type": "code",
   "execution_count": 10,
   "id": "younger-strand",
   "metadata": {
    "execution": {
     "iopub.execute_input": "2021-08-28T04:10:24.719656Z",
     "iopub.status.busy": "2021-08-28T04:10:24.719070Z",
     "iopub.status.idle": "2021-08-28T04:10:24.732564Z",
     "shell.execute_reply": "2021-08-28T04:10:24.728958Z",
     "shell.execute_reply.started": "2021-08-28T04:10:24.719584Z"
    }
   },
   "outputs": [
    {
     "name": "stdout",
     "output_type": "stream",
     "text": [
      "There are 6 different combinations of how the students could sit together\n"
     ]
    }
   ],
   "source": [
    "# This can easily be answer by using the factorial of 3\n",
    "# !3 = 1*2*3\n",
    "\n",
    "print(\"There are \"+str(1*2*3)+\" different combinations of how the students could sit together\")\n",
    "\n",
    "\n"
   ]
  },
  {
   "cell_type": "markdown",
   "id": "hindu-leonard",
   "metadata": {},
   "source": [
    "### Quiz\n",
    "\n",
    "1. How many different ways could a pack of 52 cards be shuffled (ordered)?\n",
    "1. There are 6 puppies in a litter\n",
    "\n",
    "_Side note: Luckily, at the top of this notebook we imported a math library, we can use the math library function for factorials by calling the `math.factorial()` function_"
   ]
  },
  {
   "cell_type": "code",
   "execution_count": 11,
   "id": "limited-perth",
   "metadata": {
    "execution": {
     "iopub.execute_input": "2021-08-28T04:14:48.180140Z",
     "iopub.status.busy": "2021-08-28T04:14:48.179649Z",
     "iopub.status.idle": "2021-08-28T04:14:48.193984Z",
     "shell.execute_reply": "2021-08-28T04:14:48.192355Z",
     "shell.execute_reply.started": "2021-08-28T04:14:48.180082Z"
    }
   },
   "outputs": [
    {
     "data": {
      "text/plain": [
       "80658175170943878571660636856403766975289505440883277824000000000000"
      ]
     },
     "execution_count": 11,
     "metadata": {},
     "output_type": "execute_result"
    }
   ],
   "source": [
    "math.factorial(52)"
   ]
  },
  {
   "cell_type": "code",
   "execution_count": 6,
   "id": "modified-spoke",
   "metadata": {
    "execution": {
     "iopub.execute_input": "2021-08-28T22:04:54.370390Z",
     "iopub.status.busy": "2021-08-28T22:04:54.370022Z",
     "iopub.status.idle": "2021-08-28T22:04:54.377693Z",
     "shell.execute_reply": "2021-08-28T22:04:54.376632Z",
     "shell.execute_reply.started": "2021-08-28T22:04:54.370352Z"
    }
   },
   "outputs": [
    {
     "name": "stdout",
     "output_type": "stream",
     "text": [
      "720\n"
     ]
    }
   ],
   "source": [
    "# Let's manually build the answer using a `for loop`\n",
    "# Question 2\n",
    "puppies = 7\n",
    "factorial_total = 1\n",
    "for i in range(1,puppies):\n",
    "    factorial_total = i * factorial_total\n",
    "print(factorial_total)"
   ]
  },
  {
   "cell_type": "markdown",
   "id": "equivalent-constitution",
   "metadata": {},
   "source": [
    "## Permutations\n",
    "\n",
    "Let's change our original question\n",
    "What if, we have 8 students, but only 5 chairs. How many combinations of seating could we get across 5 chairs and not counting for the 3 students remaining for each combination when they are left standing?\n",
    "\n",
    "For this we use a simple fraction simplification\n",
    "\n",
    "\n",
    "                 "
   ]
  },
  {
   "cell_type": "code",
   "execution_count": null,
   "id": "becoming-distributor",
   "metadata": {},
   "outputs": [],
   "source": []
  }
 ],
 "metadata": {
  "kernelspec": {
   "display_name": "maths_env",
   "language": "python",
   "name": "maths_env"
  },
  "language_info": {
   "codemirror_mode": {
    "name": "ipython",
    "version": 3
   },
   "file_extension": ".py",
   "mimetype": "text/x-python",
   "name": "python",
   "nbconvert_exporter": "python",
   "pygments_lexer": "ipython3",
   "version": "3.8.8"
  }
 },
 "nbformat": 4,
 "nbformat_minor": 5
}
