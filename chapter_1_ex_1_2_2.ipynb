{
 "cells": [
  {
   "cell_type": "markdown",
   "metadata": {},
   "source": [
    "(chapter_1)=\n",
    "\n",
    "# Chapter 1, Part 1 Exercises\n",
    "\n",
    "To use this notebook, it is best to follow on with the additional instructions and hints and solutions that are at the following page [prime pages chapter 1 part 1](https://www.primes.page/unit_1/chapter_1.html)\n",
    "\n",
    "Keep in mind that this online book provides guidance on how to use python to answer different exercises from this text book\n",
    "\n",
    "- [Cambridge IGCSE® Mathematics Core and Extended Coursebook, Second edition; Karen Morrison and Nick Hamshaw](https://www.cambridge.org/us/education/subject/mathematics/cambridge-igcse-mathematics-2nd-edition/cambridge-igcse-mathematics-2nd-edition-core-and-extended-coursebook?isbn=9781108437189)\n",
    "\n",
    "It might be good to keep this page open too if you are still getting used to jupyterlab/notebook shortcuts\n",
    "- [jupyter notebook shortcut keys](https://towardsdatascience.com/jypyter-notebook-shortcuts-bf0101a98330)\n",
    "\n",
    "## Important Note\n",
    "\n",
    "To run the code in a cell you have to hit SHIFT-ENTER\n",
    "- When you run the code it will automatically take you to the next cell\n",
    "- You can run the code (cells) out of order but your code will not work if it was dependent on a previous cell being run, a good example of this is your import statements in the next cell\n",
    "- You must hit SHIFT-ENTER on the next cell before continuing to the other code cells\n",
    "- Use the above linked shortcut keys page to the different keys for using using Jupyter notebooks\n",
    "\n",
    "## Let's get started\n",
    "\n",
    "As a first step let's import the libraries we want to use\n"
   ]
  },
  {
   "cell_type": "code",
   "execution_count": 11,
   "metadata": {
    "execution": {
     "iopub.execute_input": "2021-03-16T08:24:52.734619Z",
     "iopub.status.busy": "2021-03-16T08:24:52.734189Z",
     "iopub.status.idle": "2021-03-16T08:24:52.745971Z",
     "shell.execute_reply": "2021-03-16T08:24:52.744831Z",
     "shell.execute_reply.started": "2021-03-16T08:24:52.734577Z"
    }
   },
   "outputs": [],
   "source": [
    "import numpy as np\n",
    "from sympy import *\n",
    "import math as math"
   ]
  },
  {
   "cell_type": "markdown",
   "metadata": {},
   "source": [
    "Our first exercise is a little harder than it looks. For this one I will take you through how we do it, and then hand over the coding to you for some of the following exercises.\n",
    "\n",
    "### Ex 1.2.2\n",
    "\n",
    "Are these these mathematical statements are true or false"
   ]
  },
  {
   "cell_type": "code",
   "execution_count": 12,
   "metadata": {
    "execution": {
     "iopub.execute_input": "2021-03-16T08:24:55.462389Z",
     "iopub.status.busy": "2021-03-16T08:24:55.461956Z",
     "iopub.status.idle": "2021-03-16T08:24:55.467868Z",
     "shell.execute_reply": "2021-03-16T08:24:55.466688Z",
     "shell.execute_reply.started": "2021-03-16T08:24:55.462346Z"
    }
   },
   "outputs": [],
   "source": [
    "list_1_2_2 = [\n",
    "        '0.599 > 6.0',\n",
    "        'math.isclose(5 * 1999, 10000, rel_tol=1.009, abs_tol=0.0)',\n",
    "        '8.1 == 8+Rational(1,10)',\n",
    "        '6.2 + 4.3 == 4.3 + 6.2',\n",
    "        '20 * 9 >= 21 * 8',\n",
    "        '6.0 == 6',\n",
    "        '-12 > -4',\n",
    "        '19.9 <= 20'\n",
    "        '1000 > 199 * 5',\n",
    "        'sqrt(16) == 4',\n",
    "        '35 * 5 * 2 != 350',\n",
    "        '20 / 4 == 5 / 20',\n",
    "        '20 - 4 != 4 - 20',\n",
    "        '20 * 4 != 4 * 20']"
   ]
  },
  {
   "cell_type": "markdown",
   "metadata": {},
   "source": [
    "You can see from the above list, which is written to be comparable to what is in the textbook that we have a bit to cover here.\n",
    "\n",
    "Here is a list of changes that needed to be made\n",
    "- '==' means we are checking if the two sides are equivalent\n",
    "- '=' would mean we are trying to assign the value of the right side to a variable on the left\n",
    "- 'Rational(1/10)'' is how we write the fraction 1/10\n",
    "- '*' means multiply\n",
    "- '/' means divide by\n",
    "- '!=' means does 'not equal'\n",
    "\n",
    "Let's check the results"
   ]
  },
  {
   "cell_type": "code",
   "execution_count": 13,
   "metadata": {
    "execution": {
     "iopub.execute_input": "2021-03-16T08:24:55.946262Z",
     "iopub.status.busy": "2021-03-16T08:24:55.945793Z",
     "iopub.status.idle": "2021-03-16T08:24:55.957661Z",
     "shell.execute_reply": "2021-03-16T08:24:55.954172Z",
     "shell.execute_reply.started": "2021-03-16T08:24:55.946218Z"
    }
   },
   "outputs": [
    {
     "data": {
      "application/x.notebook.stream": "False\nTrue\nFalse\nTrue\nTrue\nTrue\nFalse\nTrue\nTrue\nFalse\nFalse\nTrue\nFalse\n"
     },
     "output_type": "unknown"
    }
   ],
   "source": [
    "# The next line is saying for each value in list run the code that is indented below it\n",
    "for value in list_1_2_2:\n",
    "    print(eval(value))"
   ]
  },
  {
   "cell_type": "markdown",
   "metadata": {},
   "source": [
    "Hmmm, that is hard to read, let's make it a bit easier to read by including the questions"
   ]
  },
  {
   "cell_type": "code",
   "execution_count": 4,
   "metadata": {
    "execution": {
     "iopub.execute_input": "2021-03-16T08:12:19.119153Z",
     "iopub.status.busy": "2021-03-16T08:12:19.118690Z",
     "iopub.status.idle": "2021-03-16T08:12:19.126358Z",
     "shell.execute_reply": "2021-03-16T08:12:19.125516Z",
     "shell.execute_reply.started": "2021-03-16T08:12:19.119120Z"
    }
   },
   "outputs": [
    {
     "data": {
      "application/x.notebook.stream": "0.599 > 6.0 is a False statement.\nmath.isclose(5 * 1999, 10000, rel_tol=1.009, abs_tol=0.0) is a True statement.\n8.1 == 8+Rational(1,10) is a False statement.\n6.2 + 4.3 == 4.3 + 6.2 is a True statement.\n20 * 9 >= 21 * 8 is a True statement.\n6.0 == 6 is a True statement.\n-12 > -4 is a False statement.\n19.9 <= 201000 > 199 * 5 is a True statement.\nsqrt(16) == 4 is a True statement.\n35 * 5 * 2 != 350 is a False statement.\n20 / 4 == 5 / 20 is a False statement.\n20 - 4 != 4 - 20 is a True statement.\n20 * 4 != 4 * 20 is a False statement.\n"
     },
     "output_type": "unknown"
    }
   ],
   "source": [
    "# The next line is saying for each value in list run the code that is indented below it\n",
    "for value in list_1_2_2:\n",
    "    print(value+\" is a \"+str(eval(value))+ \" statement.\")"
   ]
  },
  {
   "cell_type": "markdown",
   "metadata": {},
   "source": [
    "*You may have noticed this part of the print statement `\"+str(eval(value))+ \"`. If we are printing strings and booleans or number values (floats or integers) we must wrap them in the `str()`. We connect these different pieces with the `+` sign*\n",
    "\n",
    "If you look carefully at our third answer above, you can see that it seems to be incorrect. \n",
    "\n",
    "Let's check why it did not give us the expected answer of true"
   ]
  },
  {
   "cell_type": "code",
   "execution_count": 14,
   "metadata": {
    "execution": {
     "iopub.execute_input": "2021-03-16T08:28:04.538941Z",
     "iopub.status.busy": "2021-03-16T08:28:04.538507Z",
     "iopub.status.idle": "2021-03-16T08:28:04.544876Z",
     "shell.execute_reply": "2021-03-16T08:28:04.543867Z",
     "shell.execute_reply.started": "2021-03-16T08:28:04.538897Z"
    }
   },
   "outputs": [
    {
     "data": {
      "application/x.notebook.stream": "<class 'float'>\n<class 'sympy.core.numbers.Rational'>\n"
     },
     "output_type": "unknown"
    }
   ],
   "source": [
    "# The next line is saying for each value in list run the code that is indented \n",
    "print(type(8.1))\n",
    "print(type(8+Rational(1,10)))\n"
   ]
  },
  {
   "cell_type": "markdown",
   "metadata": {},
   "source": [
    "In the above code we asked for the 'type' of each of the values.\n",
    "From the response we can see that the types are different.\n",
    "These two different types cannot be used to compare with each other\n",
    "That is why we got a false response\n",
    "\n",
    "Let's fix this problem by wrapping the non-float value in a float function which will try to convert the value into a float so we can compare them"
   ]
  },
  {
   "cell_type": "code",
   "execution_count": 15,
   "metadata": {
    "execution": {
     "iopub.execute_input": "2021-03-16T08:28:12.284027Z",
     "iopub.status.busy": "2021-03-16T08:28:12.283602Z",
     "iopub.status.idle": "2021-03-16T08:28:12.297623Z",
     "shell.execute_reply": "2021-03-16T08:28:12.296641Z",
     "shell.execute_reply.started": "2021-03-16T08:28:12.283986Z"
    }
   },
   "outputs": [
    {
     "data": {
      "application/x.notebook.stream": "8.1\n81/10\n8.1\nTrue\n"
     },
     "output_type": "unknown"
    }
   ],
   "source": [
    "print((8.1))\n",
    "print(8+Rational(1,10))\n",
    "print(float(8+Rational(1,10))) # hopefully this will show 8.1\n",
    "print(8.1==float(8+Rational(1,10)))"
   ]
  },
  {
   "cell_type": "markdown",
   "metadata": {},
   "source": [
    "That looks better - we can see that the item wrapped in the float has changed the type for the output on the third line.\n",
    "\n",
    "**Types are important in programming languages. We often have to pay attention to them to get our code running as we expect it to.**\n",
    "\n",
    "Let's run the above code again with the correction for the type"
   ]
  },
  {
   "cell_type": "code",
   "execution_count": 16,
   "metadata": {
    "execution": {
     "iopub.execute_input": "2021-03-16T08:28:16.646475Z",
     "iopub.status.busy": "2021-03-16T08:28:16.646011Z",
     "iopub.status.idle": "2021-03-16T08:28:16.661777Z",
     "shell.execute_reply": "2021-03-16T08:28:16.660326Z",
     "shell.execute_reply.started": "2021-03-16T08:28:16.646434Z"
    }
   },
   "outputs": [
    {
     "data": {
      "application/x.notebook.stream": "0.599 > 6.0 is a False statement.\nmath.isclose(5 * 1999, 10000, rel_tol=1.009, abs_tol=0.0) is a True statement.\n8.1 == float(8+Rational(1,10)) is a True statement.\n6.2 + 4.3 == 4.3 + 6.2 is a True statement.\n20 * 9 >= 21 * 8 is a True statement.\n6.0 == 6 is a True statement.\n-12 > -4 is a False statement.\n19.9 <= 201000 > 199 * 5 is a True statement.\nsqrt(16) == 4 is a True statement.\n35 * 5 * 2 != 350 is a False statement.\n20 / 4 == 5 / 20 is a False statement.\n20 - 4 != 4 - 20 is a True statement.\n20 * 4 != 4 * 20 is a False statement.\n"
     },
     "output_type": "unknown"
    }
   ],
   "source": [
    "list_1_2_2 = [\n",
    "        '0.599 > 6.0',\n",
    "        'math.isclose(5 * 1999, 10000, rel_tol=1.009, abs_tol=0.0)',\n",
    "        '8.1 == float(8+Rational(1,10))',\n",
    "        '6.2 + 4.3 == 4.3 + 6.2',\n",
    "        '20 * 9 >= 21 * 8',\n",
    "        '6.0 == 6',\n",
    "        '-12 > -4',\n",
    "        '19.9 <= 20'\n",
    "        '1000 > 199 * 5',\n",
    "        'sqrt(16) == 4',\n",
    "        '35 * 5 * 2 != 350',\n",
    "        '20 / 4 == 5 / 20',\n",
    "        '20 - 4 != 4 - 20',\n",
    "        '20 * 4 != 4 * 20']\n",
    "        \n",
    "for value in list_1_2_2:\n",
    "    print(value+\" is a \"+str(eval(value))+ \" statement.\")"
   ]
  },
  {
   "cell_type": "markdown",
   "metadata": {},
   "source": [
    "Nice! That has given us all the answers we were expecting.\n",
    "\n",
    "You may have noticed that we also imported the library math and then used a function from it. This was because it was the first result I got for finding out how to find the approximate of a number - so I checked it and used it with a little bit of guess work. \n",
    "\n",
    "Just like you, I am learning. Google is your friend. Trial and error is just part of programming.\n",
    "\n",
    "## In brief\n",
    "\n",
    "- We used our first `list`. Lists are used to hold a list of values. We held our values in the list as the type of `string` - you can see this from noting the quotes are there in the list like this `['','']`\n",
    "- We iterated the list using `for value in list:` this let us move through each value in the list and do something to it\n",
    "- We used the `eval()` to let the string be evaluated as a number with operator signs\n",
    "\n",
    "\n",
    "## Ex 1.3.2\n",
    "\n",
    "Next we will try to figure out how to do the code to give the first 10 multiples of the numbers: \n",
    "\n",
    "29, 44, 75, 114, 299, 350, 1012, 9123\n",
    "\n",
    "*Try to make your answer look like how we have it [here](https://www.primes.page/unit_1/chapter_1.html#ex-1-3-2)*"
   ]
  },
  {
   "cell_type": "code",
   "execution_count": 8,
   "metadata": {
    "execution": {
     "iopub.execute_input": "2021-03-16T08:12:19.161317Z",
     "iopub.status.busy": "2021-03-16T08:12:19.160947Z",
     "iopub.status.idle": "2021-03-16T08:12:19.166482Z",
     "shell.execute_reply": "2021-03-16T08:12:19.164604Z",
     "shell.execute_reply.started": "2021-03-16T08:12:19.161282Z"
    },
    "tags": [
     "output_scroll",
     "hide-input"
    ]
   },
   "outputs": [],
   "source": [
    "# Put your code in here\n",
    "# Feel free to make additional cells for aditional pieces of code while you try and test things out \n"
   ]
  },
  {
   "cell_type": "markdown",
   "metadata": {},
   "source": [
    "What do we need to do:\n",
    "\n",
    "1. Just as before you will need to create a list `list_1_3_2 = [29,44,etc.]` you may have noticed this list will hold values not strings (there are no quotes being used)\n",
    "2. You will want to iterate through your list `for value in list_1_3_2:`\n",
    "3. Next we will want to create an inner loop. Go to [this site](http://speedsheet.io/s/python) and search for the correct syntax to use 'for range'\n",
    "4. The inner loop will be calculating `print(value * i)`\n",
    "5. Check if you have mistakes or not by running the cell (to run the cell hit **shift+enter** on your keyboard)\n",
    "6. Next clean up the print line to include additional strings to immitate the text in the example above while connecting them to the values using `+`. Remember if you want to print strings and values in the same print statement you need to wrap the values in `str()`\n",
    "\n",
    "## Ex. 1.3.3\n",
    "\n",
    "For our next exercise, you could do one solution by using modulo (which is just a fancy word for the remainder number when dividing 2 numbers. A second solution would be possible just using the range and steps\n",
    "\n",
    "\n",
    "List:\n",
    "- the multiples of 4 between 29 and 53\n",
    "- the multiples of 50 less than 400\n",
    "- the multiples of 100 between 4000 and 5000.\n",
    "\n",
    "\n",
    "Write some code to do this. Use [this site](http://speedsheet.io/s/python) again to figure out how to use an if statement.\n",
    "\n",
    "*Try to make your code output to look something like what we have shown [here](https://www.primes.page/unit_1/chapter_1.html#ex-1-3-3)*"
   ]
  },
  {
   "cell_type": "code",
   "execution_count": 9,
   "metadata": {
    "execution": {
     "iopub.execute_input": "2021-03-16T08:12:19.170924Z",
     "iopub.status.busy": "2021-03-16T08:12:19.168841Z",
     "iopub.status.idle": "2021-03-16T08:12:19.177170Z",
     "shell.execute_reply": "2021-03-16T08:12:19.176116Z",
     "shell.execute_reply.started": "2021-03-16T08:12:19.170792Z"
    },
    "tags": [
     "output_scroll",
     "hide-input"
    ]
   },
   "outputs": [],
   "source": [
    "# Put your code here\n"
   ]
  },
  {
   "cell_type": "markdown",
   "metadata": {},
   "source": [
    "*You can check your above answer with my version [here (or get a little peak if you need it)](https://www.primes.page/unit_1/chapter_1.html#ex-1-3-3)*"
   ]
  },
  {
   "cell_type": "markdown",
   "metadata": {},
   "source": [
    "## Ex. 1.3.4\n",
    "*Use modulo to answer this question*\n",
    "\n",
    "Here are five numbers: 576, 396, 354, 792, 1164. Which of these are multiples of 12?"
   ]
  },
  {
   "cell_type": "code",
   "execution_count": 10,
   "metadata": {
    "execution": {
     "iopub.execute_input": "2021-03-16T08:12:19.179856Z",
     "iopub.status.busy": "2021-03-16T08:12:19.179103Z",
     "iopub.status.idle": "2021-03-16T08:12:19.184754Z",
     "shell.execute_reply": "2021-03-16T08:12:19.183328Z",
     "shell.execute_reply.started": "2021-03-16T08:12:19.179814Z"
    },
    "tags": [
     "output_scroll",
     "hide-input",
     "hide-output"
    ]
   },
   "outputs": [],
   "source": [
    "# Put your answer here\n"
   ]
  },
  {
   "cell_type": "markdown",
   "metadata": {},
   "source": [
    "## Ex. 1.3.5\n",
    "*Use modulo to answer this question*\n",
    "\n",
    "Which of the following numbers are not multiples of 27?\n",
    "\n",
    "324, 783, 816, 837, 1116"
   ]
  },
  {
   "cell_type": "code",
   "execution_count": null,
   "metadata": {
    "tags": [
     "output_scroll",
     "hide-input",
     "hide-output"
    ]
   },
   "outputs": [],
   "source": []
  },
  {
   "cell_type": "markdown",
   "metadata": {},
   "source": [
    "As a side note, we do have plenty of additional functions and methods available to us thanks to sympy\n",
    "\n",
    "There is a more complicated approach we could have used that uses some functions that sympy provides us. you can check that version out [here](https://www.primes.page/unit_1/chapter_1.html#more-complicated-version)\n",
    "\n",
    "Have a go at playing with some functions from sympy if you like just go to the start of a code cell below and type `prime` and hit the **tab key** a number of suggestion should come up.\n",
    "Hit **enter** to auto-complete the suggestion and then hit **shift-tab** to read some documentation on the function"
   ]
  },
  {
   "cell_type": "code",
   "execution_count": null,
   "metadata": {
    "tags": [
     "output_scroll",
     "hide-input",
     "hide-output"
    ]
   },
   "outputs": [],
   "source": []
  },
  {
   "cell_type": "markdown",
   "metadata": {},
   "source": [
    "## In brief\n",
    "\n",
    "- So far in these exercises we have iterated a `list` several times\n",
    "- We have done a number of `for value in range(1,10,1)` type loops\n",
    "- We have converted strings to values using `eval()` for evaluation and we have converted values to strings for print statements by using the `str()` function.\n",
    "- We have used `if else` statements to control logic flow\n",
    "- We have used some functions from sympy like `Rational(1,10)` to show 1/10\n",
    "- We have started to search for syntax by ourselves when building python code\n",
    "- We also learnt a number of operators. Including the equality operators `==` and `!=` and `*, /, %`\n",
    "- We even mentioned `+=` a comment in our code which is something we may start to use going forward\n",
    "\n",
    "Good effort getting this far. Let's look at what we will be covering in the next session.\n",
    "\n",
    "## In the next section\n",
    "\n",
    "- We will be looking at factors, prime factors, lowest common multiples and highest common factors.\n",
    "- We will be learning more about the methods available from sympy to use python as a replacement for a calculator\n",
    "- We will start to do more things with lists and start looking at a different data structure called 'dictionaries' or 'dicts' for short"
   ]
  }
 ],
 "metadata": {
  "jupytext": {
   "text_representation": {
    "extension": ".md",
    "format_name": "myst",
    "format_version": 0.13,
    "jupytext_version": "1.10.3"
   }
  },
  "kernelspec": {
   "display_name": "maths",
   "language": "python",
   "name": "maths"
  },
  "language_info": {
   "codemirror_mode": {
    "name": "ipython",
    "version": 3
   },
   "file_extension": ".py",
   "mimetype": "text/x-python",
   "name": "python",
   "nbconvert_exporter": "python",
   "pygments_lexer": "ipython3",
   "version": "3.9.1"
  },
  "source_map": [
   12,
   73,
   78,
   84,
   100,
   114,
   118,
   128,
   132,
   138,
   143,
   150,
   155,
   162,
   181,
   219,
   226,
   262,
   300,
   312,
   323,
   331,
   342,
   355,
   365
  ]
 },
 "nbformat": 4,
 "nbformat_minor": 5
}