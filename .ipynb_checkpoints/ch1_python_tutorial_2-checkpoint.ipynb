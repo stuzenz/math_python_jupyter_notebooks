{
 "cells": [
  {
   "cell_type": "markdown",
   "id": "judicial-studio",
   "metadata": {
    "execution": {
     "iopub.execute_input": "2021-04-05T22:50:43.347256Z",
     "iopub.status.busy": "2021-04-05T22:50:43.346607Z",
     "iopub.status.idle": "2021-04-05T22:50:43.360155Z",
     "shell.execute_reply": "2021-04-05T22:50:43.359114Z",
     "shell.execute_reply.started": "2021-04-05T22:50:43.347102Z"
    }
   },
   "source": [
    "# Chapter 1, Python Tutorial 2\n",
    "\n",
    "To use this notebook, it is best to follow on with the additional instructions and hints and solutions that are at the following page [prime pages chapter 1 part 1](https://www.primes.page/unit_1/chapter_1_python_tutorial_2.html)\n",
    "\n",
    "Keep in mind that this online book provides guidance on how to use python to answer different exercises from this text book\n",
    "\n",
    "- [Cambridge IGCSE® Mathematics Core and Extended Coursebook, Second edition; Karen Morrison and Nick Hamshaw](https://www.cambridge.org/us/education/subject/mathematics/cambridge-igcse-mathematics-2nd-edition/cambridge-igcse-mathematics-2nd-edition-core-and-extended-coursebook?isbn=9781108437189)\n",
    "\n",
    "It might be good to keep this page open too if you are still getting used to jupyterlab/notebook shortcuts\n",
    "- [jupyter notebook shortcut keys](https://towardsdatascience.com/jypyter-notebook-shortcuts-bf0101a98330)\n",
    "\n",
    "## Important Note\n",
    "\n",
    "To run the code in a cell you have to hit SHIFT-ENTER\n",
    "- When you run the code it will automatically take you to the next cell\n",
    "- You can run the code (cells) out of order but your code will not work if it was dependent on a previous cell being run, a good example of this is your import statements in the next cell\n",
    "- You must hit SHIFT-ENTER on the next cell before continuing to the other code cells\n",
    "- Use the above linked shortcut keys page to the different keys for using using Jupyter notebooks\n",
    "\n",
    "## Today's focus\n",
    "\n",
    "Today's focus is all about the coding. We are going to take one exercise from the textbook and first use sympy to solve it, and then we will create the same function ourselves with our own algorithm\n",
    "\n",
    "The goal of the lesson today is to go through the following aspects of coding\n",
    "\n",
    "- loops (yes more of these)\n",
    "- functions\n",
    "    - functions are just like equations, you have inputs, do something and get an output. The **do something** part are the algorithms we will build.\n",
    "- maps\n",
    "    - `mapping functions` to lists let's us change a `list` without having to iterate over each `value` in a `loop`. In recent years `maps` and `functions` have become more common and popular as they can give some efficiency benefits in your code and can be cleaner than using multiple for `loops`\n",
    "\n"
   ]
  },
  {
   "cell_type": "markdown",
   "id": "political-negotiation",
   "metadata": {},
   "source": [
    "### The coding begins"
   ]
  },
  {
   "cell_type": "code",
   "execution_count": 410,
   "id": "fewer-queensland",
   "metadata": {
    "execution": {
     "iopub.execute_input": "2021-04-06T09:28:13.262012Z",
     "iopub.status.busy": "2021-04-06T09:28:13.261598Z",
     "iopub.status.idle": "2021-04-06T09:28:13.270403Z",
     "shell.execute_reply": "2021-04-06T09:28:13.268273Z",
     "shell.execute_reply.started": "2021-04-06T09:28:13.261974Z"
    }
   },
   "outputs": [],
   "source": [
    "# This is just some code to import libraries so we can use them if we feel like it\n",
    "from sympy import *\n",
    "import math as math\n",
    "import numpy as np"
   ]
  },
  {
   "cell_type": "markdown",
   "id": "frank-salon",
   "metadata": {},
   "source": [
    "### Today's maths question in python\n",
    "\n",
    "Find the HCF of these numbers by means of prime factors.\n",
    "\n",
    "48 and 108, 120 and 216, 72 and 90, 52 and 78, 100 and 125, 154 and 88, 95 and 120, 546 and 624"
   ]
  },
  {
   "cell_type": "code",
   "execution_count": 411,
   "id": "chief-finger",
   "metadata": {
    "execution": {
     "iopub.execute_input": "2021-04-06T09:28:13.274270Z",
     "iopub.status.busy": "2021-04-06T09:28:13.273143Z",
     "iopub.status.idle": "2021-04-06T09:28:13.515467Z",
     "shell.execute_reply": "2021-04-06T09:28:13.513937Z",
     "shell.execute_reply.started": "2021-04-06T09:28:13.274193Z"
    }
   },
   "outputs": [],
   "source": [
    "# The first thing we need to do is write up the question as a list of lists\n",
    "question_list = [[48,108],[120,216],[72,90],[52,78],[100,125],[154,88],[95,120],[546,624]]"
   ]
  },
  {
   "cell_type": "markdown",
   "id": "acquired-major",
   "metadata": {},
   "source": [
    "### Approach 1: Using sympy with the gcd() function and a for loop\n",
    "\n",
    "We can use sympy. Sometimes it can be a little hard to find the correct function due to the different names that can be used. In this case another name for Highest Common Factor (HCF) is Greatest Common Denominator (GCD).\n",
    "\n",
    "try to loop through the question_list above to print out the gcd() function from the values"
   ]
  },
  {
   "cell_type": "code",
   "execution_count": 412,
   "id": "annoying-newfoundland",
   "metadata": {
    "execution": {
     "iopub.execute_input": "2021-04-06T09:28:13.518923Z",
     "iopub.status.busy": "2021-04-06T09:28:13.518402Z",
     "iopub.status.idle": "2021-04-06T09:28:13.944848Z",
     "shell.execute_reply": "2021-04-06T09:28:13.943432Z",
     "shell.execute_reply.started": "2021-04-06T09:28:13.518874Z"
    }
   },
   "outputs": [
    {
     "name": "stdout",
     "output_type": "stream",
     "text": [
      "12\n",
      "24\n",
      "18\n",
      "26\n",
      "25\n",
      "22\n",
      "5\n",
      "78\n"
     ]
    }
   ],
   "source": [
    "# Iterate through the question_list and \n",
    "# print the gcd() function for each value\n"
   ]
  },
  {
   "cell_type": "markdown",
   "id": "sized-deadline",
   "metadata": {},
   "source": [
    "Try to pretty up the result by including the two values in the print statement to look like below"
   ]
  },
  {
   "cell_type": "code",
   "execution_count": 413,
   "id": "blond-blend",
   "metadata": {
    "execution": {
     "iopub.execute_input": "2021-04-06T09:28:13.948194Z",
     "iopub.status.busy": "2021-04-06T09:28:13.947690Z",
     "iopub.status.idle": "2021-04-06T09:28:14.185707Z",
     "shell.execute_reply": "2021-04-06T09:28:14.184329Z",
     "shell.execute_reply.started": "2021-04-06T09:28:13.948148Z"
    }
   },
   "outputs": [
    {
     "name": "stdout",
     "output_type": "stream",
     "text": [
      "The HCF of 48 and 108 is 12\n",
      "The HCF of 120 and 216 is 24\n",
      "The HCF of 72 and 90 is 18\n",
      "The HCF of 52 and 78 is 26\n",
      "The HCF of 100 and 125 is 25\n",
      "The HCF of 154 and 88 is 22\n",
      "The HCF of 95 and 120 is 5\n",
      "The HCF of 546 and 624 is 78\n"
     ]
    }
   ],
   "source": [
    "# The above answer with some print language - remember to wrap non-strings in str() and concatenate everything using +\n"
   ]
  },
  {
   "cell_type": "markdown",
   "id": "parental-azerbaijan",
   "metadata": {},
   "source": [
    "Great the above actually gives us the final answer the question asked for - but we did not use prime factorisation to get there.\n",
    "\n",
    "Let's break it out further in the next example"
   ]
  },
  {
   "cell_type": "markdown",
   "id": "distinct-kingdom",
   "metadata": {
    "execution": {
     "iopub.execute_input": "2021-04-05T23:22:29.317009Z",
     "iopub.status.busy": "2021-04-05T23:22:29.316223Z",
     "iopub.status.idle": "2021-04-05T23:22:29.339874Z",
     "shell.execute_reply": "2021-04-05T23:22:29.337939Z",
     "shell.execute_reply.started": "2021-04-05T23:22:29.316930Z"
    }
   },
   "source": [
    "#### Approach 2: Using sympy factorint() function and a for loop\n",
    "\n",
    "This time we will use factorint() to find out the prime factors of each value in the list. Try the function below with our first values/products 48 and 108\n",
    "\n",
    "What we are trying to do here is\n",
    "1. Find the prime factors of each of the values\n",
    "1. Reduce the prime factors to only the ones that are common in the list for each product values\n",
    "1. Mulptiply out the common prime factors to find the HCF/GCD\n",
    "\n",
    "An example is 48, 108\n",
    "\n",
    "- The prime factors of 48 are 2 x 2 x 2 x 2 x 3\n",
    "- The prime factors of 108 are 2 x 2 x 3 x 3 x 3\n",
    "- The common prime factors across the two sets are 2 x 2 x 3\n",
    "- If we multiply this out we get our **HCF of 12**"
   ]
  },
  {
   "cell_type": "markdown",
   "id": "gothic-quebec",
   "metadata": {},
   "source": [
    "Let's do this first by code for 48 and 112"
   ]
  },
  {
   "cell_type": "code",
   "execution_count": 414,
   "id": "minute-timing",
   "metadata": {
    "execution": {
     "iopub.execute_input": "2021-04-06T09:28:14.188165Z",
     "iopub.status.busy": "2021-04-06T09:28:14.187620Z",
     "iopub.status.idle": "2021-04-06T09:28:14.556272Z",
     "shell.execute_reply": "2021-04-06T09:28:14.554662Z",
     "shell.execute_reply.started": "2021-04-06T09:28:14.188111Z"
    }
   },
   "outputs": [
    {
     "data": {
      "text/plain": [
       "{2: 4, 3: 1}"
      ]
     },
     "execution_count": 414,
     "metadata": {},
     "output_type": "execute_result"
    }
   ],
   "source": [
    "factorint(48)"
   ]
  },
  {
   "cell_type": "code",
   "execution_count": 415,
   "id": "excited-conviction",
   "metadata": {
    "execution": {
     "iopub.execute_input": "2021-04-06T09:28:14.558894Z",
     "iopub.status.busy": "2021-04-06T09:28:14.558376Z",
     "iopub.status.idle": "2021-04-06T09:28:14.825244Z",
     "shell.execute_reply": "2021-04-06T09:28:14.823942Z",
     "shell.execute_reply.started": "2021-04-06T09:28:14.558843Z"
    }
   },
   "outputs": [
    {
     "data": {
      "text/plain": [
       "{2: 2, 3: 3}"
      ]
     },
     "execution_count": 415,
     "metadata": {},
     "output_type": "execute_result"
    }
   ],
   "source": [
    "factorint(108)"
   ]
  },
  {
   "cell_type": "markdown",
   "id": "foreign-revelation",
   "metadata": {},
   "source": [
    "You will see we have a result returned above is in squiggly/curly braces. In python we call this type of object is called a dictionary (or dict). Dicts are very common.\n",
    "\n",
    "To understand how to read the above dicts, either click `shift-tab` on your keyboard when on the above cell code or `ctrl-i`\n",
    "\n",
    "Go to [Python Speedsheet](http://speedsheet.io/s/python) to learn how to work with dictionaries.\n",
    "\n",
    "Have a look at the `Dict - Iterate Over Keys, Values` entry\n",
    "\n",
    "Note the first item is the key and the second item is the value.\n",
    "\n",
    "By the way, if you want to learn more about the above function go to the above cell and hit `shift-tab` on your keyboard - or hit `ctrl-i`"
   ]
  },
  {
   "cell_type": "code",
   "execution_count": 416,
   "id": "unlimited-identifier",
   "metadata": {
    "execution": {
     "iopub.execute_input": "2021-04-06T09:28:14.828156Z",
     "iopub.status.busy": "2021-04-06T09:28:14.827630Z",
     "iopub.status.idle": "2021-04-06T09:28:15.312602Z",
     "shell.execute_reply": "2021-04-06T09:28:15.311140Z",
     "shell.execute_reply.started": "2021-04-06T09:28:14.828106Z"
    }
   },
   "outputs": [],
   "source": [
    "# Let's hold the results in a variable\n",
    "a = factorint(48)\n",
    "b = factorint(108)"
   ]
  },
  {
   "cell_type": "markdown",
   "id": "adolescent-slide",
   "metadata": {},
   "source": [
    "Since we only want keys that are common to each 48 and 108 we can use this intersect for dictionaries (I found the python syntax to do this at [Python Speedsheet](http://speedsheet.io/s/python)) \n",
    "\n",
    "Try to find it and implement it yourself"
   ]
  },
  {
   "cell_type": "code",
   "execution_count": 417,
   "id": "settled-pontiac",
   "metadata": {
    "execution": {
     "iopub.execute_input": "2021-04-06T09:28:15.317622Z",
     "iopub.status.busy": "2021-04-06T09:28:15.317002Z",
     "iopub.status.idle": "2021-04-06T09:28:15.543041Z",
     "shell.execute_reply": "2021-04-06T09:28:15.541370Z",
     "shell.execute_reply.started": "2021-04-06T09:28:15.317562Z"
    }
   },
   "outputs": [],
   "source": [
    "# change b into b_2 by making an interset on the dict\n",
    "b_2 = "
   ]
  },
  {
   "cell_type": "code",
   "execution_count": 418,
   "id": "random-interference",
   "metadata": {
    "execution": {
     "iopub.execute_input": "2021-04-06T09:28:15.547126Z",
     "iopub.status.busy": "2021-04-06T09:28:15.546563Z",
     "iopub.status.idle": "2021-04-06T09:28:15.827950Z",
     "shell.execute_reply": "2021-04-06T09:28:15.826937Z",
     "shell.execute_reply.started": "2021-04-06T09:28:15.547070Z"
    }
   },
   "outputs": [
    {
     "data": {
      "text/plain": [
       "{2: 2, 3: 3}"
      ]
     },
     "execution_count": 418,
     "metadata": {},
     "output_type": "execute_result"
    }
   ],
   "source": [
    "# Check the b_2 answer\n",
    "b_2"
   ]
  },
  {
   "cell_type": "markdown",
   "id": "satisfied-diploma",
   "metadata": {},
   "source": [
    "Great, the above result is set b returning with only keys (prime factors) that also exist in set a\n",
    "\n",
    "Next we are going to compare the value between dict a dict b_2 for each key that is the same and keep the minimum value. The minimum value represents the exponent to use with the prime factor which is the key.\n",
    "\n",
    "We will hold this result in result_list"
   ]
  },
  {
   "cell_type": "code",
   "execution_count": 438,
   "id": "postal-recipient",
   "metadata": {
    "execution": {
     "iopub.execute_input": "2021-04-06T18:08:24.797189Z",
     "iopub.status.busy": "2021-04-06T18:08:24.796828Z",
     "iopub.status.idle": "2021-04-06T18:08:24.810179Z",
     "shell.execute_reply": "2021-04-06T18:08:24.809466Z",
     "shell.execute_reply.started": "2021-04-06T18:08:24.797153Z"
    }
   },
   "outputs": [
    {
     "data": {
      "text/plain": [
       "[[2, 1], [3, 1], [13, 1]]"
      ]
     },
     "execution_count": 438,
     "metadata": {},
     "output_type": "execute_result"
    }
   ],
   "source": [
    "# try to understand this code by using shift-tab over different pieces\n",
    "result_list =[]\n",
    "for key, value in a.items():\n",
    "    for key_b, value_b in b.items():\n",
    "        if key == key_b:\n",
    "            result_list.append([key,min(value,value_b)])\n",
    "result_list    "
   ]
  },
  {
   "cell_type": "markdown",
   "id": "continuous-yield",
   "metadata": {
    "execution": {
     "iopub.execute_input": "2021-04-06T03:17:01.287880Z",
     "iopub.status.busy": "2021-04-06T03:17:01.287136Z",
     "iopub.status.idle": "2021-04-06T03:17:01.299393Z",
     "shell.execute_reply": "2021-04-06T03:17:01.297138Z",
     "shell.execute_reply.started": "2021-04-06T03:17:01.287810Z"
    }
   },
   "source": [
    "The above result is telling us that if we multiply out 2 x 2 x 3 x 1 we will get the same result as the gcd(48,108)\n",
    "\n",
    "Let's go ahead and multiply out the result_list"
   ]
  },
  {
   "cell_type": "markdown",
   "id": "accessible-supplement",
   "metadata": {},
   "source": [
    "#### Multiply out the prime factors for gcd() result\n",
    "\n",
    "What we want to do here is iterate our result_list from the code above using a `for value in result_list:` loop.\n",
    "\n",
    "Inside the loop we need to factor/multiply out (including the exponents) from the values in the `result_list` storing the result in a `running_total` variable."
   ]
  },
  {
   "cell_type": "code",
   "execution_count": 439,
   "id": "solar-parks",
   "metadata": {
    "execution": {
     "iopub.execute_input": "2021-04-06T18:08:27.677956Z",
     "iopub.status.busy": "2021-04-06T18:08:27.677301Z",
     "iopub.status.idle": "2021-04-06T18:08:27.690684Z",
     "shell.execute_reply": "2021-04-06T18:08:27.688239Z",
     "shell.execute_reply.started": "2021-04-06T18:08:27.677893Z"
    }
   },
   "outputs": [
    {
     "name": "stdout",
     "output_type": "stream",
     "text": [
      "78\n"
     ]
    }
   ],
   "source": [
    "running_total = 1\n",
    "# for loop here\n",
    "\n",
    "# print running_total here\n",
    "print(running_total)"
   ]
  },
  {
   "cell_type": "markdown",
   "id": "known-marker",
   "metadata": {},
   "source": [
    "Now that we have some code that works for our first question 48, 108. \n",
    "\n",
    "#### Bring the code pieces together\n",
    "\n",
    "Let's put all the code together and have the code give one set of answers in a list called `answer_list`\n",
    "\n",
    "Here is our list of questions again"
   ]
  },
  {
   "cell_type": "code",
   "execution_count": 421,
   "id": "geological-installation",
   "metadata": {
    "execution": {
     "iopub.execute_input": "2021-04-06T09:28:16.460298Z",
     "iopub.status.busy": "2021-04-06T09:28:16.459855Z",
     "iopub.status.idle": "2021-04-06T09:28:16.702032Z",
     "shell.execute_reply": "2021-04-06T09:28:16.699820Z",
     "shell.execute_reply.started": "2021-04-06T09:28:16.460260Z"
    }
   },
   "outputs": [
    {
     "data": {
      "text/plain": [
       "[[48, 108],\n",
       " [120, 216],\n",
       " [72, 90],\n",
       " [52, 78],\n",
       " [100, 125],\n",
       " [154, 88],\n",
       " [95, 120],\n",
       " [546, 624]]"
      ]
     },
     "execution_count": 421,
     "metadata": {},
     "output_type": "execute_result"
    }
   ],
   "source": [
    "question_list"
   ]
  },
  {
   "cell_type": "markdown",
   "id": "environmental-chest",
   "metadata": {},
   "source": [
    "If you get stuck getting the code together in the below cell, check the answer by opening a new tab or window at [Bring the code pieces together](https://www.primes.page/unit_1/chapter_1_python_tutorial_2.html#bring-the-code-pieces-together)"
   ]
  },
  {
   "cell_type": "code",
   "execution_count": 422,
   "id": "wicked-inquiry",
   "metadata": {
    "execution": {
     "iopub.execute_input": "2021-04-06T09:28:16.706804Z",
     "iopub.status.busy": "2021-04-06T09:28:16.705287Z",
     "iopub.status.idle": "2021-04-06T09:28:16.986495Z",
     "shell.execute_reply": "2021-04-06T09:28:16.980807Z",
     "shell.execute_reply.started": "2021-04-06T09:28:16.706663Z"
    }
   },
   "outputs": [
    {
     "name": "stdout",
     "output_type": "stream",
     "text": [
      "The HCF of 48 and 108 is 12\n",
      "2 exponent 2\n",
      "3 exponent 1\n",
      "Multiplying out the above common prime factors gives an HCF of 12\n",
      "\n",
      "\n",
      "The HCF of 120 and 216 is 24\n",
      "2 exponent 3\n",
      "3 exponent 1\n",
      "Multiplying out the above common prime factors gives an HCF of 24\n",
      "\n",
      "\n",
      "The HCF of 72 and 90 is 18\n",
      "2 exponent 1\n",
      "3 exponent 2\n",
      "Multiplying out the above common prime factors gives an HCF of 18\n",
      "\n",
      "\n",
      "The HCF of 52 and 78 is 26\n",
      "2 exponent 1\n",
      "13 exponent 1\n",
      "Multiplying out the above common prime factors gives an HCF of 26\n",
      "\n",
      "\n",
      "The HCF of 100 and 125 is 25\n",
      "5 exponent 2\n",
      "Multiplying out the above common prime factors gives an HCF of 25\n",
      "\n",
      "\n",
      "The HCF of 154 and 88 is 22\n",
      "2 exponent 1\n",
      "11 exponent 1\n",
      "Multiplying out the above common prime factors gives an HCF of 22\n",
      "\n",
      "\n",
      "The HCF of 95 and 120 is 5\n",
      "5 exponent 1\n",
      "Multiplying out the above common prime factors gives an HCF of 5\n",
      "\n",
      "\n",
      "The HCF of 546 and 624 is 78\n",
      "2 exponent 1\n",
      "3 exponent 1\n",
      "13 exponent 1\n",
      "Multiplying out the above common prime factors gives an HCF of 78\n",
      "\n",
      "\n"
     ]
    },
    {
     "data": {
      "text/plain": [
       "[12, 24, 18, 26, 25, 22, 5, 78]"
      ]
     },
     "execution_count": 422,
     "metadata": {},
     "output_type": "execute_result"
    }
   ],
   "source": [
    "answer_list = []\n",
    "\n",
    "# Bring the code pieces together here\n",
    "\n",
    "    \n",
    "answer_list"
   ]
  },
  {
   "cell_type": "markdown",
   "id": "heated-identification",
   "metadata": {},
   "source": [
    "### Functions\n",
    "\n",
    "We can also turn the above workflow/algorithm to calculate the HCF into a function of our own\n",
    "\n",
    "Let's quickly see how we can do this using our first solution"
   ]
  },
  {
   "cell_type": "code",
   "execution_count": 423,
   "id": "empty-favor",
   "metadata": {
    "execution": {
     "iopub.execute_input": "2021-04-06T09:28:16.991036Z",
     "iopub.status.busy": "2021-04-06T09:28:16.990288Z",
     "iopub.status.idle": "2021-04-06T09:28:17.308447Z",
     "shell.execute_reply": "2021-04-06T09:28:17.305985Z",
     "shell.execute_reply.started": "2021-04-06T09:28:16.990966Z"
    }
   },
   "outputs": [],
   "source": [
    "# def allows us to create our own functions\n",
    "def our_hcf_algo(value):\n",
    "    print(\"The HCF of \"+ str(value[0])+\" and \"+str(value[1])+ \" is \"+str(gcd(value)))\n",
    "    return gcd(value)"
   ]
  },
  {
   "cell_type": "code",
   "execution_count": 424,
   "id": "endangered-verse",
   "metadata": {
    "execution": {
     "iopub.execute_input": "2021-04-06T09:28:17.313321Z",
     "iopub.status.busy": "2021-04-06T09:28:17.311138Z",
     "iopub.status.idle": "2021-04-06T09:28:17.552298Z",
     "shell.execute_reply": "2021-04-06T09:28:17.548524Z",
     "shell.execute_reply.started": "2021-04-06T09:28:17.313236Z"
    }
   },
   "outputs": [
    {
     "name": "stdout",
     "output_type": "stream",
     "text": [
      "The HCF of 216 and 120 is 24\n"
     ]
    },
    {
     "data": {
      "text/latex": [
       "$\\displaystyle 24$"
      ],
      "text/plain": [
       "24"
      ]
     },
     "execution_count": 424,
     "metadata": {},
     "output_type": "execute_result"
    }
   ],
   "source": [
    "our_hcf_algo([216,120])"
   ]
  },
  {
   "cell_type": "markdown",
   "id": "lyric-hayes",
   "metadata": {},
   "source": [
    "### Map a function to a list\n",
    "\n",
    "We can then map our function to each item in the list. This is more efficient than looping through lists"
   ]
  },
  {
   "cell_type": "code",
   "execution_count": 425,
   "id": "positive-hundred",
   "metadata": {
    "execution": {
     "iopub.execute_input": "2021-04-06T09:28:17.559723Z",
     "iopub.status.busy": "2021-04-06T09:28:17.557113Z",
     "iopub.status.idle": "2021-04-06T09:28:17.903114Z",
     "shell.execute_reply": "2021-04-06T09:28:17.901401Z",
     "shell.execute_reply.started": "2021-04-06T09:28:17.559638Z"
    }
   },
   "outputs": [
    {
     "name": "stdout",
     "output_type": "stream",
     "text": [
      "The HCF of 48 and 108 is 12\n",
      "The HCF of 120 and 216 is 24\n",
      "The HCF of 72 and 90 is 18\n",
      "The HCF of 52 and 78 is 26\n",
      "The HCF of 100 and 125 is 25\n",
      "The HCF of 154 and 88 is 22\n",
      "The HCF of 95 and 120 is 5\n",
      "The HCF of 546 and 624 is 78\n"
     ]
    },
    {
     "data": {
      "text/plain": [
       "[12, 24, 18, 26, 25, 22, 5, 78]"
      ]
     },
     "execution_count": 425,
     "metadata": {},
     "output_type": "execute_result"
    }
   ],
   "source": [
    "# The below line of code is getting our function executing against each value in the list and then saving it to a list called mapped1\n",
    "mapped1 = list(map(our_hcf_algo,question_list))\n",
    "\n",
    "mapped1"
   ]
  },
  {
   "cell_type": "code",
   "execution_count": 426,
   "id": "spanish-class",
   "metadata": {
    "execution": {
     "iopub.execute_input": "2021-04-06T09:28:17.906627Z",
     "iopub.status.busy": "2021-04-06T09:28:17.906222Z",
     "iopub.status.idle": "2021-04-06T09:28:18.126891Z",
     "shell.execute_reply": "2021-04-06T09:28:18.125662Z",
     "shell.execute_reply.started": "2021-04-06T09:28:17.906590Z"
    }
   },
   "outputs": [
    {
     "data": {
      "text/plain": [
       "[12, 24, 18, 26, 25, 22, 5, 78]"
      ]
     },
     "execution_count": 426,
     "metadata": {},
     "output_type": "execute_result"
    }
   ],
   "source": [
    "mapped1"
   ]
  },
  {
   "cell_type": "markdown",
   "id": "assured-transmission",
   "metadata": {},
   "source": [
    "### Making a function\n",
    "\n",
    "It is your turn now to make your own function for our own algorithm you created above.\n",
    "\n",
    "You will note our print statements still print, but the only important value is where we have the return statement. If we ever want to use the output of our function as an input into another function it will use the returned values.\n",
    "\n"
   ]
  },
  {
   "cell_type": "code",
   "execution_count": 427,
   "id": "divine-chinese",
   "metadata": {
    "execution": {
     "iopub.execute_input": "2021-04-06T09:28:18.128454Z",
     "iopub.status.busy": "2021-04-06T09:28:18.127991Z",
     "iopub.status.idle": "2021-04-06T09:28:18.352440Z",
     "shell.execute_reply": "2021-04-06T09:28:18.349264Z",
     "shell.execute_reply.started": "2021-04-06T09:28:18.128417Z"
    }
   },
   "outputs": [],
   "source": [
    "def our_hcf_algo2(value):\n",
    "# put your code in here from the 'Bring the code pieces together' section\n",
    "\n",
    "    return running_total "
   ]
  },
  {
   "cell_type": "markdown",
   "id": "black-manner",
   "metadata": {},
   "source": [
    "We can use the function on independent questions - just as we would with a scientific calculator"
   ]
  },
  {
   "cell_type": "code",
   "execution_count": 428,
   "id": "mature-appendix",
   "metadata": {
    "execution": {
     "iopub.execute_input": "2021-04-06T09:28:18.357359Z",
     "iopub.status.busy": "2021-04-06T09:28:18.355203Z",
     "iopub.status.idle": "2021-04-06T09:28:18.439555Z",
     "shell.execute_reply": "2021-04-06T09:28:18.436652Z",
     "shell.execute_reply.started": "2021-04-06T09:28:18.355808Z"
    }
   },
   "outputs": [
    {
     "name": "stdout",
     "output_type": "stream",
     "text": [
      "The HCF of 220 and 500 is \n",
      "2 exponent 2\n",
      "5 exponent 1\n",
      "Multiplying out the above common prime factors gives an HCF of 20\n",
      "\n",
      "\n"
     ]
    },
    {
     "data": {
      "text/plain": [
       "20"
      ]
     },
     "execution_count": 428,
     "metadata": {},
     "output_type": "execute_result"
    }
   ],
   "source": [
    "our_hcf_algo2([220,500])"
   ]
  },
  {
   "cell_type": "markdown",
   "id": "designed-senior",
   "metadata": {},
   "source": [
    "### Mapping our function to a list\n",
    "\n",
    "Or we can use a special map function to map our function to each of the values in our list and have it return a new list of answers\n",
    "\n",
    "Map and functions together are very powerful and efficient and are probably an intermediate skill level piece of code for python"
   ]
  },
  {
   "cell_type": "code",
   "execution_count": 429,
   "id": "executive-bosnia",
   "metadata": {
    "execution": {
     "iopub.execute_input": "2021-04-06T09:28:18.444268Z",
     "iopub.status.busy": "2021-04-06T09:28:18.442668Z",
     "iopub.status.idle": "2021-04-06T09:28:18.480770Z",
     "shell.execute_reply": "2021-04-06T09:28:18.478660Z",
     "shell.execute_reply.started": "2021-04-06T09:28:18.444189Z"
    }
   },
   "outputs": [
    {
     "name": "stdout",
     "output_type": "stream",
     "text": [
      "The HCF of 48 and 108 is \n",
      "2 exponent 2\n",
      "3 exponent 1\n",
      "Multiplying out the above common prime factors gives an HCF of 12\n",
      "\n",
      "\n",
      "The HCF of 120 and 216 is \n",
      "2 exponent 3\n",
      "3 exponent 1\n",
      "Multiplying out the above common prime factors gives an HCF of 24\n",
      "\n",
      "\n",
      "The HCF of 72 and 90 is \n",
      "2 exponent 1\n",
      "3 exponent 2\n",
      "Multiplying out the above common prime factors gives an HCF of 18\n",
      "\n",
      "\n",
      "The HCF of 52 and 78 is \n",
      "2 exponent 1\n",
      "13 exponent 1\n",
      "Multiplying out the above common prime factors gives an HCF of 26\n",
      "\n",
      "\n",
      "The HCF of 100 and 125 is \n",
      "5 exponent 2\n",
      "Multiplying out the above common prime factors gives an HCF of 25\n",
      "\n",
      "\n",
      "The HCF of 154 and 88 is \n",
      "2 exponent 1\n",
      "11 exponent 1\n",
      "Multiplying out the above common prime factors gives an HCF of 22\n",
      "\n",
      "\n",
      "The HCF of 95 and 120 is \n",
      "5 exponent 1\n",
      "Multiplying out the above common prime factors gives an HCF of 5\n",
      "\n",
      "\n",
      "The HCF of 546 and 624 is \n",
      "2 exponent 1\n",
      "3 exponent 1\n",
      "13 exponent 1\n",
      "Multiplying out the above common prime factors gives an HCF of 78\n",
      "\n",
      "\n"
     ]
    },
    {
     "data": {
      "text/plain": [
       "[12, 24, 18, 26, 25, 22, 5, 78]"
      ]
     },
     "execution_count": 429,
     "metadata": {},
     "output_type": "execute_result"
    }
   ],
   "source": [
    "# use the mapping example above as an example to write this code\n",
    "\n"
   ]
  },
  {
   "cell_type": "markdown",
   "id": "alternative-empty",
   "metadata": {},
   "source": [
    "### Refactoring\n",
    "\n",
    "Refactoring is something we like to do when we have time. It is all about simplifying our solution from something that works to something that is cleaner. Often we might do this for readability or because we think our code is sloppy or will be harder to manage.\n",
    "\n",
    "One of our options for cleaning our code above is to create functions and use mapping.\n",
    "\n",
    "- You could argue functions and maps are not easier to read, but after a while you will get used to seeing them.\n",
    "\n",
    "Let's take the next piece of code simplify it a little and reduce it to a function and a map\n",
    "\n",
    "```python\n",
    "running_total = 1\n",
    "for value in result_list:\n",
    "        running_total = value[0]**value[1]*running_total\n",
    "print(running_total)\n",
    "return running_total\n",
    "```\n"
   ]
  },
  {
   "cell_type": "code",
   "execution_count": 430,
   "id": "answering-marriage",
   "metadata": {
    "execution": {
     "iopub.execute_input": "2021-04-06T09:28:18.485396Z",
     "iopub.status.busy": "2021-04-06T09:28:18.484596Z",
     "iopub.status.idle": "2021-04-06T09:28:18.498782Z",
     "shell.execute_reply": "2021-04-06T09:28:18.496448Z",
     "shell.execute_reply.started": "2021-04-06T09:28:18.485323Z"
    }
   },
   "outputs": [],
   "source": [
    "# We have refactored our code here to only use one for loop and removed the else if logic\n",
    "def product_prime_factors(prime_factors):\n",
    "    products_per_set = []\n",
    "    for value in prime_factors:\n",
    "        products_per_set.append(value[0]**value[1])\n",
    "    # Below we are using a special function using the numpy set\n",
    "    return np.prod(products_per_set)  "
   ]
  },
  {
   "cell_type": "code",
   "execution_count": 431,
   "id": "crazy-bidding",
   "metadata": {
    "execution": {
     "iopub.execute_input": "2021-04-06T09:28:18.503545Z",
     "iopub.status.busy": "2021-04-06T09:28:18.502443Z",
     "iopub.status.idle": "2021-04-06T09:28:18.523990Z",
     "shell.execute_reply": "2021-04-06T09:28:18.520428Z",
     "shell.execute_reply.started": "2021-04-06T09:28:18.503461Z"
    }
   },
   "outputs": [
    {
     "data": {
      "text/plain": [
       "[[2, 1], [3, 1], [13, 1]]"
      ]
     },
     "execution_count": 431,
     "metadata": {},
     "output_type": "execute_result"
    }
   ],
   "source": [
    "result_list"
   ]
  },
  {
   "cell_type": "code",
   "execution_count": 432,
   "id": "reported-seattle",
   "metadata": {
    "execution": {
     "iopub.execute_input": "2021-04-06T09:28:18.538882Z",
     "iopub.status.busy": "2021-04-06T09:28:18.537212Z",
     "iopub.status.idle": "2021-04-06T09:28:18.564075Z",
     "shell.execute_reply": "2021-04-06T09:28:18.560785Z",
     "shell.execute_reply.started": "2021-04-06T09:28:18.538797Z"
    }
   },
   "outputs": [
    {
     "data": {
      "text/plain": [
       "78"
      ]
     },
     "execution_count": 432,
     "metadata": {},
     "output_type": "execute_result"
    }
   ],
   "source": [
    "product_prime_factors(result_list)"
   ]
  },
  {
   "cell_type": "markdown",
   "id": "approved-airplane",
   "metadata": {},
   "source": [
    "We can now refactor some of the below code - but more just to break it out into functions\n",
    "\n",
    "```python\n",
    "def our_hcf_algo2(value):\n",
    "    print(\"The HCF of \"+ str(value[0])+\" and \"+str(value[1])+ \" is \")\n",
    "    a =factorint(value[0])\n",
    "    b =factorint(value[1])\n",
    "    # This next line should give us an intersect set of a and b keys\n",
    "    b_2 = {key : a[key] for key in a if key in b}\n",
    "    \n",
    "\n",
    "    result_list =[]\n",
    "    for key, value in a.items():\n",
    "        for key_b, value_b in b.items():\n",
    "            if key == key_b:\n",
    "                print(str(key)+\" exponent \"+str(min(value,value_b)))\n",
    "                result_list.append([key,min(value,value_b)])\n",
    "    result_list\n",
    "```"
   ]
  },
  {
   "cell_type": "markdown",
   "id": "thousand-genesis",
   "metadata": {},
   "source": [
    "### Final refactored code"
   ]
  },
  {
   "cell_type": "code",
   "execution_count": 433,
   "id": "painful-intermediate",
   "metadata": {
    "execution": {
     "iopub.execute_input": "2021-04-06T09:28:18.580856Z",
     "iopub.status.busy": "2021-04-06T09:28:18.579901Z",
     "iopub.status.idle": "2021-04-06T09:28:18.636880Z",
     "shell.execute_reply": "2021-04-06T09:28:18.632588Z",
     "shell.execute_reply.started": "2021-04-06T09:28:18.580616Z"
    }
   },
   "outputs": [
    {
     "data": {
      "text/plain": [
       "[12, 24, 18, 26, 25, 22, 5, 78]"
      ]
     },
     "execution_count": 433,
     "metadata": {},
     "output_type": "execute_result"
    }
   ],
   "source": [
    "# final refactored code\n",
    "def get_common_prime_factors(value):\n",
    "    a = factorint(value[0])\n",
    "    b = factorint(value[1])\n",
    "    # This next line should give us an intersect set of a and b keys\n",
    "    b_2 = {key : a[key] for key in a if key in b}    \n",
    "    result_list =[]\n",
    "    for key, value in a.items():\n",
    "        for key_b, value_b in b.items():\n",
    "            if key == key_b:\n",
    "                result_list.append([key,min(value,value_b)])                \n",
    "    return result_list\n",
    "\n",
    "def product_of_common_prime_factors(prime_factors):\n",
    "    products_per_set = []\n",
    "    for value in prime_factors:\n",
    "        products_per_set.append(value[0]**value[1])\n",
    "    # Below we are using a special function using the numpy library\n",
    "    return np.prod(products_per_set)\n",
    "\n",
    "def our_hcf_algo2(value):\n",
    "    return product_of_common_prime_factors(get_common_prime_factors(value))\n",
    "\n",
    "gcd_result = list(map(our_hcf_algo2,question_list))\n",
    "gcd_result"
   ]
  },
  {
   "cell_type": "markdown",
   "id": "meaning-airfare",
   "metadata": {},
   "source": [
    "Above we have managed to break our thinking into 2 different functions which are all called on from a main function called `our_hcf_algo2()`\n",
    "\n",
    "Our first function `get_common_prime_factors()` focuses on reducing the prime factors of each number (48,108 in our first example) to only the common prime factors\n",
    "\n",
    "Our second function, `product_of_common_prime_factors`, takes the result of our first function and then uses it to multiply out the answer we wanting for the gcd result"
   ]
  },
  {
   "cell_type": "markdown",
   "id": "compatible-sympathy",
   "metadata": {},
   "source": [
    "### Where our algo is not great\n",
    "\n",
    "As a side note, as with `gcd()`, we can use our algo function to check any numbers.\n",
    "With that said, our implementation is a little naive. We can only check pairs of numbers, `gcd()` is faster and can check many different numbers in one function like this `gcd([12,22,50,40])` definitions."
   ]
  },
  {
   "cell_type": "code",
   "execution_count": 434,
   "id": "sapphire-emphasis",
   "metadata": {
    "execution": {
     "iopub.execute_input": "2021-04-06T09:28:18.649822Z",
     "iopub.status.busy": "2021-04-06T09:28:18.648907Z",
     "iopub.status.idle": "2021-04-06T09:28:18.676124Z",
     "shell.execute_reply": "2021-04-06T09:28:18.664637Z",
     "shell.execute_reply.started": "2021-04-06T09:28:18.649748Z"
    }
   },
   "outputs": [
    {
     "data": {
      "text/latex": [
       "$\\displaystyle 100$"
      ],
      "text/plain": [
       "100"
      ]
     },
     "execution_count": 434,
     "metadata": {},
     "output_type": "execute_result"
    }
   ],
   "source": [
    "gcd([6000,900,500,400])"
   ]
  },
  {
   "cell_type": "code",
   "execution_count": 435,
   "id": "improved-kruger",
   "metadata": {
    "execution": {
     "iopub.execute_input": "2021-04-06T09:28:18.680663Z",
     "iopub.status.busy": "2021-04-06T09:28:18.679690Z",
     "iopub.status.idle": "2021-04-06T09:28:18.697362Z",
     "shell.execute_reply": "2021-04-06T09:28:18.695711Z",
     "shell.execute_reply.started": "2021-04-06T09:28:18.680590Z"
    }
   },
   "outputs": [
    {
     "data": {
      "text/plain": [
       "25"
      ]
     },
     "execution_count": 435,
     "metadata": {},
     "output_type": "execute_result"
    }
   ],
   "source": [
    "our_hcf_algo2([25,400])"
   ]
  },
  {
   "cell_type": "markdown",
   "id": "searching-macedonia",
   "metadata": {},
   "source": [
    "\n",
    "## Summary\n",
    "\n",
    "We have covered a lot in this tutorial. Quite likely more than we should have. This included:\n",
    "\n",
    "- lists\n",
    "- dictionaries\n",
    "- for loops\n",
    "- iterate lists\n",
    "- define functions\n",
    "- mapping functions to lists\n",
    "- GCD / HCF\n",
    "\n",
    "The good news is all the techiques used today will be used in coding exercises we use in the future\n",
    "\n",
    "Hopefully you are beginning to get used to for loops and iterating lists and you are beginning to see how to create and use your own functions to manage your code structure.\n",
    "\n",
    "You are doing well. Keep it up\n",
    "\n",
    "## In the next section\n",
    "\n",
    "- We will adjust today's code to create do Lowest Common Denominator lcm() calculations\n",
    "- This will involve more dicts and defined functions."
   ]
  },
  {
   "cell_type": "code",
   "execution_count": null,
   "id": "approximate-updating",
   "metadata": {},
   "outputs": [],
   "source": []
  }
 ],
 "metadata": {
  "kernelspec": {
   "display_name": "maths",
   "language": "python",
   "name": "maths"
  },
  "language_info": {
   "codemirror_mode": {
    "name": "ipython",
    "version": 3
   },
   "file_extension": ".py",
   "mimetype": "text/x-python",
   "name": "python",
   "nbconvert_exporter": "python",
   "pygments_lexer": "ipython3",
   "version": "3.9.1"
  }
 },
 "nbformat": 4,
 "nbformat_minor": 5
}
